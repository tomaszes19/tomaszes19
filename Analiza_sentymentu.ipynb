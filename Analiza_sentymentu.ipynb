{
  "nbformat": 4,
  "nbformat_minor": 0,
  "metadata": {
    "colab": {
      "provenance": [],
      "authorship_tag": "ABX9TyNQ6pgUzYZc6AHGycaMQEXR",
      "include_colab_link": true
    },
    "kernelspec": {
      "name": "python3",
      "display_name": "Python 3"
    },
    "language_info": {
      "name": "python"
    }
  },
  "cells": [
    {
      "cell_type": "markdown",
      "metadata": {
        "id": "view-in-github",
        "colab_type": "text"
      },
      "source": [
        "<a href=\"https://colab.research.google.com/github/tomaszes19/tomaszes19/blob/main/Analiza_sentymentu.ipynb\" target=\"_parent\"><img src=\"https://colab.research.google.com/assets/colab-badge.svg\" alt=\"Open In Colab\"/></a>"
      ]
    },
    {
      "cell_type": "markdown",
      "source": [
        "Pobieranie recenzji ze strony Metacritic dla trzech gier PC - Cyberpunk 2077, Wiedźmin 3 i Red Dead Redemption 2"
      ],
      "metadata": {
        "id": "-MYbEkZIXkRn"
      }
    },
    {
      "cell_type": "code",
      "execution_count": null,
      "metadata": {
        "id": "PfQkV_wJXYcz"
      },
      "outputs": [],
      "source": [
        "# Funkcja do pobierania recenzji\n",
        "from requests_html import HTMLSession\n",
        "import json\n",
        "import pandas as pd\n",
        "\n",
        "# otworzenie sesji HTML\n",
        "sess = HTMLSession()\n",
        "\n",
        "# funkcja pobierajaca dane ze strony Metacritic\n",
        "def get_reviews(url):\n",
        "\n",
        "    # lista do gromadzenia danych ze strony\n",
        "    reviews_list = {\"reviews\":[], 'url':url}\n",
        "    res = sess.get(url)\n",
        "    html = res.html\n",
        "\n",
        "    reviews = html.find('.product_reviews', first=True).find('[class=\"review_section\"]')\n",
        "    counter = 0\n",
        "\n",
        "    # pętla do pobierania informacji dla określonych tagów HTML\n",
        "    for review in reviews:\n",
        "            try:\n",
        "                review_body = review.find('.blurb_expanded', first=True).text\n",
        "            except AttributeError:\n",
        "                review_body = review.find('.review_body', first=True).text\n",
        "\n",
        "            reviews_list['reviews'].append({\n",
        "                \"author\" : review.find(\".name\", first=True).text,\n",
        "                \"review\" : review_body.replace(\"\\n\", \" \"),\n",
        "                \"date\" : review.find(\".date\", first=True).text,\n",
        "                \"score\" : review.find(\".review_grade\", first=True).text\n",
        "                })\n",
        "            counter += 1\n",
        "    print(counter)\n",
        "\n",
        "    next_page = html.find(\".flipper.next\", first=True)\n",
        "\n",
        "    if next_page:\n",
        "        try:\n",
        "            next_page_url = next_page.absolute_links.pop()\n",
        "            reviews_list['reviews'].extend(get_reviews(next_page_url)['reviews'])\n",
        "        except KeyError:\n",
        "            pass\n",
        "\n",
        "    return reviews_list"
      ]
    },
    {
      "cell_type": "markdown",
      "source": [
        "Utworzenie lokalizacji do zapisu plików z recenzjami"
      ],
      "metadata": {
        "id": "4c5w7poxb4Dd"
      }
    },
    {
      "cell_type": "code",
      "source": [
        "# save a JSON file with selected EN words\n",
        "from google.colab import drive\n",
        "import json\n",
        "\n",
        "drive.mount('/content/drive')"
      ],
      "metadata": {
        "id": "PQMzCsc3bzlz"
      },
      "execution_count": null,
      "outputs": []
    },
    {
      "cell_type": "code",
      "source": [
        "!cd '/content/drive/My Drive/analiza_sentymentu'"
      ],
      "metadata": {
        "id": "LlPbo3dcb98Y"
      },
      "execution_count": null,
      "outputs": []
    },
    {
      "cell_type": "markdown",
      "source": [
        "Wykonanie funkcji get_reviews na poszczególnych adresach URL"
      ],
      "metadata": {
        "id": "UZWLU-6lcAQS"
      }
    },
    {
      "cell_type": "code",
      "source": [
        "# Cyberpunk 2077 (CP2077)\n",
        "url_cp2077 = \"\"\"https://www.metacritic.com/game/pc/cyberpunk-2077/user-reviews?sort-by=date&num_items=100\"\"\"\n",
        "\n",
        "with open('reviews_cp2077.json', 'w') as f:\n",
        "    json.dump(get_reviews(url_cp2077), f)"
      ],
      "metadata": {
        "id": "F-8nGkM_Yamt"
      },
      "execution_count": null,
      "outputs": []
    },
    {
      "cell_type": "code",
      "source": [
        "# Wiedźmin 3 (W3)\n",
        "url_w3 = \"\"\"https://www.metacritic.com/game/pc/the-witcher-3-wild-hunt/user-reviews?sort-by=date&num_items=100\"\"\"\n",
        "\n",
        "with open('reviews_w3.json', 'w') as f:\n",
        "    json.dump(get_reviews(url_w3), f)"
      ],
      "metadata": {
        "id": "MbdNxsR3Y8iv"
      },
      "execution_count": null,
      "outputs": []
    },
    {
      "cell_type": "code",
      "source": [
        "# Red Dead Redemption 2 (RDR2)\n",
        "url_rdr2 = \"\"\"https://www.metacritic.com/game/pc/red-dead-redemption-2/user-reviews?sort-by=most-helpful&num_items=100\"\"\"\n",
        "\n",
        "with open('reviews_rdr2.json', 'w') as f:\n",
        "    json.dump(get_reviews(url_rdr2), f)"
      ],
      "metadata": {
        "id": "Wwboz62WZI29"
      },
      "execution_count": null,
      "outputs": []
    },
    {
      "cell_type": "markdown",
      "source": [
        "Przygotowanie danych do trenowania i testowania modelu\n",
        "\n"
      ],
      "metadata": {
        "id": "H8FHbYtSZnc-"
      }
    },
    {
      "cell_type": "code",
      "source": [
        "# Pobranie plików z recenzjami\n",
        "from google.colab import files\n",
        "uploaded_test_cp = files.upload()\n",
        "uploaded_test_w3 = files.upload()\n",
        "uploaded_test_rdr2 = files.upload()"
      ],
      "metadata": {
        "id": "mgqYOVSRZf2a"
      },
      "execution_count": null,
      "outputs": []
    },
    {
      "cell_type": "code",
      "source": [
        "import json\n",
        "\n",
        "# import pliku JSON dla CP2077\n",
        "with open('reviews_cp.json', 'r') as f:\n",
        "    reviews_cp = json.load(f)\n",
        "\n",
        "# import pliku JSON dla W3\n",
        "with open('reviews_w3.json', 'r') as f:\n",
        "    reviews_w3 = json.load(f)\n",
        "\n",
        "with open('reviews_rdr2.json', 'r') as f:\n",
        "    reviews_rdr2 = json.load(f)"
      ],
      "metadata": {
        "id": "JhAyrEeBZ2bH"
      },
      "execution_count": null,
      "outputs": []
    },
    {
      "cell_type": "code",
      "source": [
        "# połączenie zawartości plików JSON w jeden słownik (dict)\n",
        "reviews = reviews_cp['reviews'] + reviews_w3['reviews'] + reviews_rdr2['reviews']"
      ],
      "metadata": {
        "id": "dlyqBiv5aOmb"
      },
      "execution_count": null,
      "outputs": []
    },
    {
      "cell_type": "markdown",
      "source": [
        "Funkcje przygotowujące dane do modelu"
      ],
      "metadata": {
        "id": "qQ1ADeqzaeEZ"
      }
    },
    {
      "cell_type": "code",
      "source": [
        "# Funkcja rozpoznająca język tekstu, żeby wybrać jedynie recenzje w języku angielskim\n",
        "from langdetect import detect\n",
        "\n",
        "def detect_language(text):\n",
        "    try:\n",
        "        language = detect(text)\n",
        "        return language\n",
        "    except:\n",
        "        return None"
      ],
      "metadata": {
        "id": "djisVZKaabq0"
      },
      "execution_count": null,
      "outputs": []
    },
    {
      "cell_type": "code",
      "source": [
        "# utworzenie słownika dla recenzji po angielsku\n",
        "reviews_en = {\"reviews\":[]}\n",
        "counter = 0\n",
        "\n",
        "# pętla wykonująca funkcję detect_language i dodająca recenzje w języku angielskim do nowego słownika\n",
        "for rev in reviews:\n",
        "  rev_en = detect_language(rev['review'])\n",
        "  if rev_en == 'en':\n",
        "    rev_en_dict = {'review_en' : rev_en}\n",
        "    rev_with_en = {**rev, **rev_en_dict}\n",
        "    reviews_en['reviews'].append(rev_with_en)"
      ],
      "metadata": {
        "id": "TireOf6_ay4t"
      },
      "execution_count": null,
      "outputs": []
    }
  ]
}